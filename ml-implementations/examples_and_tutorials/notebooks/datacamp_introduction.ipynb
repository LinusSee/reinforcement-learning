{
 "cells": [
  {
   "cell_type": "markdown",
   "metadata": {},
   "source": [
    "# Original article\n",
    "https://www.datacamp.com/community/tutorials/introduction-reinforcement-learning"
   ]
  },
  {
   "cell_type": "code",
   "execution_count": 1,
   "metadata": {},
   "outputs": [],
   "source": [
    "import numpy as np\n",
    "import random\n",
    "import matplotlib.pyplot as plt\n",
    "%matplotlib inline\n",
    "np.random.seed(5)"
   ]
  },
  {
   "cell_type": "code",
   "execution_count": 2,
   "metadata": {},
   "outputs": [
    {
     "data": {
      "text/plain": [
       "array([0.22199317, 0.87073231, 0.20671916, 0.91861091, 0.48841119,\n",
       "       0.61174386, 0.76590786, 0.51841799, 0.2968005 , 0.18772123])"
      ]
     },
     "execution_count": 2,
     "metadata": {},
     "output_type": "execute_result"
    }
   ],
   "source": [
    "# 10 armed bandit -> n = 10\n",
    "n = 10\n",
    "# Probability of action of each arm\n",
    "arms = np.random.rand(n)\n",
    "# Probability of exploration (not simply choosing the best known option)\n",
    "eps = 0.1\n",
    "eps_early = 0.9\n",
    "\n",
    "arms"
   ]
  },
  {
   "cell_type": "code",
   "execution_count": 3,
   "metadata": {},
   "outputs": [],
   "source": [
    "def reward(prob):\n",
    "    '''Returns a reward between 0 and 10'''\n",
    "    reward = 0\n",
    "    for i in range(10):\n",
    "        if random.random() < prob:\n",
    "            reward += 1\n",
    "    return reward"
   ]
  },
  {
   "cell_type": "code",
   "execution_count": 4,
   "metadata": {},
   "outputs": [
    {
     "data": {
      "text/plain": [
       "array([[5, 0]])"
      ]
     },
     "execution_count": 4,
     "metadata": {},
     "output_type": "execute_result"
    }
   ],
   "source": [
    "# Initialize memory array; has 1 row defaulted to random action index\n",
    "# Memory array stores the history of all actions and their rewards\n",
    "# 1 row == [ arms_index, received_reward ]\n",
    "av = np.array([ np.random.randint(0, n + 1), 0]).reshape(1, 2)# av = action-value\n",
    "av"
   ]
  },
  {
   "cell_type": "code",
   "execution_count": 5,
   "metadata": {},
   "outputs": [],
   "source": [
    "# greedy method to select the best arm based on memory array\n",
    "def best_arm(memory):\n",
    "    best_arm = 0\n",
    "    best_mean = 0\n",
    "    # Probably inefficient as hell, only range(10) necessary?!\n",
    "    for action in memory:#range(n):#memory:\n",
    "        # calculate mean reward for each action\n",
    "        avg = np.mean(memory[np.where(memory[:, 0] == action[0])][:, 1])\n",
    "        if best_mean < avg:\n",
    "            best_mean = avg\n",
    "            best_arm = memory[0][0]\n",
    "    return best_arm"
   ]
  },
  {
   "cell_type": "code",
   "execution_count": 6,
   "metadata": {},
   "outputs": [
    {
     "data": {
      "image/png": "[encoded data removed]",
      "text/plain": [
       "<Figure size 432x288 with 1 Axes>"
      ]
     },
     "metadata": {
      "needs_background": "light"
     },
     "output_type": "display_data"
    }
   ],
   "source": [
    "plt.figure()\n",
    "plt.xlabel(\"Number of times played\")\n",
    "plt.ylabel(\"Average reward\")\n",
    "for i in range(500):\n",
    "    if i == 100:\n",
    "        eps_early = 0\n",
    "    if random.random() < max(eps, eps_early): # Explore\n",
    "        choice = np.where(arms == np.random.choice(arms))[0][0]\n",
    "        # Or choice = arms[np.random.choice(len(arms))][0][0]?\n",
    "    else: # Exploit (e-greedy)\n",
    "        choice = best_arm(av)\n",
    "    \n",
    "    current_av = np.array([[ choice, reward(arms[choice]) ]])\n",
    "    av = np.concatenate((av, current_av), axis=0)\n",
    "    \n",
    "    # Calculate the mean reward\n",
    "    current_mean = np.mean(av[:, 1])\n",
    "    plt.scatter(i, current_mean)"
   ]
  },
  {
   "cell_type": "code",
   "execution_count": 7,
   "metadata": {},
   "outputs": [
    {
     "name": "stdout",
     "output_type": "stream",
     "text": [
      "[[5 0]\n",
      " [7 5]\n",
      " [0 2]\n",
      " ...\n",
      " [5 3]\n",
      " [5 7]\n",
      " [5 7]]\n",
      "501\n",
      "[5 7 0 1 5 4 6 2 9 9 5 9 9 1 2 5 7 0 5 0 5 0 4 4 9 3 2 4 6 9 3 3 2 1 5 7 4\n",
      " 3 5 1 7 3 1 5 9 5 7 0 9 6 0 5 5 2 5 8 5 6 8 0 5 2 0 5 7 7 6 0 0 8 5 5 9 6\n",
      " 4 5 5 2 5 8 8 5 5 1 6 3 4 1 8 0 2 2 4 1 6 3 4 3 1 4 2 5 5 5 5 3 5 5 5 5 4\n",
      " 5 5 5 9 4 5 5 5 5 5 5 5 5 5 5 0 5 5 5 5 5 5 6 6 5 5 9 5 5 2 9 5 5 3 5 5 5\n",
      " 5 5 0 5 5 5 8 5 5 5 5 5 5 5 5 5 5 5 5 5 5 5 5 5 5 5 5 5 5 5 5 5 5 5 5 5 5\n",
      " 8 5 5 5 5 5 5 5 5 5 5 5 5 5 5 5 5 5 9 5 7 5 5 5 5 4 5 5 5 5 5 5 5 5 5 5 8\n",
      " 5 5 5 5 5 5 5 5 5 5 5 6 5 5 8 5 5 5 5 5 5 5 5 5 5 0 5 5 5 5 5 5 5 5 5 5 5\n",
      " 5 5 5 5 5 5 5 5 5 5 5 5 3 5 5 5 5 4 5 5 5 0 5 5 5 5 5 5 5 5 5 5 2 5 5 5 5\n",
      " 5 5 5 5 5 5 5 5 2 5 5 5 5 1 5 5 5 1 5 5 5 5 5 5 5 5 5 7 5 5 5 5 5 5 5 5 5\n",
      " 5 5 5 1 5 5 5 5 5 5 5 5 5 5 5 5 5 7 5 5 5 5 5 5 2 5 5 5 5 5 5 6 5 5 5 5 5\n",
      " 3 5 6 5 5 5 8 5 5 5 0 5 5 5 5 5 5 5 5 9 5 5 5 5 5 5 5 5 5 5 5 5 5 5 5 5 5\n",
      " 5 5 5 1 5 5 5 5 5 5 5 5 5 5 5 5 9 5 0 8 7 5 5 5 5 5 5 5 5 5 5 5 5 5 5 5 7\n",
      " 5 5 5 5 5 5 5 5 5 5 5 5 5 5 5 5 5 5 5 5 5 5 5 9 5 5 5 5 5 5 5 4 5 5 5 5 5\n",
      " 5 5 5 5 5 5 5 5 5 5 1 5 4 5 5 5 5 5 5 5]\n"
     ]
    }
   ],
   "source": [
    "print(av)\n",
    "print(len(av))\n",
    "print(av[:, 0])"
   ]
  },
  {
   "cell_type": "code",
   "execution_count": null,
   "metadata": {},
   "outputs": [],
   "source": []
  }
 ],
 "metadata": {
  "kernelspec": {
   "display_name": "Python 3",
   "language": "python",
   "name": "python3"
  },
  "language_info": {
   "codemirror_mode": {
    "name": "ipython",
    "version": 3
   },
   "file_extension": ".py",
   "mimetype": "text/x-python",
   "name": "python",
   "nbconvert_exporter": "python",
   "pygments_lexer": "ipython3",
   "version": "3.6.7"
  }
 },
 "nbformat": 4,
 "nbformat_minor": 2
}
